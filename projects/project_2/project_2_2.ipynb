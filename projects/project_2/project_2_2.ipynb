{
 "cells": [
  {
   "cell_type": "markdown",
   "id": "3f465500",
   "metadata": {},
   "source": [
    "# Project 2, Part 2, Parse Peak's sales JSON file into CSV files\n",
    "\n",
    "University of California, Berkeley\n",
    "\n",
    "Master of Information and Data Science (MIDS) program\n",
    "\n",
    "w205 - Fundamentals of Data Engineering\n",
    "\n",
    "Student:\n",
    "\n",
    "Year:\n",
    "\n",
    "Semester:\n",
    "\n",
    "Section:\n"
   ]
  },
  {
   "cell_type": "markdown",
   "id": "33c6e20e",
   "metadata": {},
   "source": [
    "# Included Modules and Packages\n",
    "\n",
    "Code cell containing your includes for modules and packages"
   ]
  },
  {
   "cell_type": "code",
   "execution_count": null,
   "id": "b3176d3b",
   "metadata": {},
   "outputs": [],
   "source": []
  },
  {
   "cell_type": "markdown",
   "id": "c91c8869",
   "metadata": {},
   "source": [
    "# Supporting code\n",
    "\n",
    "Code cells containing any supporting code, such as connecting to the database, any functions, etc.  \n",
    "\n",
    "Remember you can freely use any code from the labs. You do not need to cite code from the labs."
   ]
  },
  {
   "cell_type": "code",
   "execution_count": null,
   "id": "88543518",
   "metadata": {},
   "outputs": [],
   "source": []
  },
  {
   "cell_type": "markdown",
   "id": "d2e6beed",
   "metadata": {},
   "source": [
    "# 2.2.1 Recursive walk of Peak's sales JSON file to help understand the structure\n",
    "\n",
    "Peak has send AGM a nested JSON file of sales data for October 3, 2020.  We need to first understand the structure of this file so we can parse it into CSV files to load into staging tables.\n",
    "\n",
    "Use the function my_read_nested_json() which calls my_recursive_print_json() to take a recursive walk of the nested JSON file peak_sales_2020_10_03.json to help understand the structure.\n",
    "\n",
    "Take some time to study the structure until you understand it.\n",
    "\n",
    "Pattern your code after the examples in the labs.  You may use as many code cells as you need."
   ]
  },
  {
   "cell_type": "code",
   "execution_count": null,
   "id": "c5d749bc",
   "metadata": {},
   "outputs": [],
   "source": []
  },
  {
   "cell_type": "markdown",
   "id": "bc4e9dd0",
   "metadata": {},
   "source": [
    "# 2.2.2 Parse Peak's nested JSON sales file into CSV files\n",
    "\n",
    "Write Python code to parse Peak's nested JSON sales file, peak_sales_2020_10_03.json, into CSV files.\n",
    "\n",
    "The first line of each file should be a list of fields as specified below.\n",
    "\n",
    "Keep the csv data rows in the same order as the JSON file.  Do not sort them.  Do not remove duplicates.  We will load duplicates to validate them.\n",
    "\n",
    "peak_sales.csv\n",
    "* sale_id - Peak's sale_id (NOT AGM's sale_id)\n",
    "* sale_date\n",
    "* sub_total - should equal the sum of line item quantity x 12\n",
    "* tax - should be 0 as our items are tax exempt\n",
    "* total_amount = sub_total + tax\n",
    "\n",
    "peak_stores.csv (we will load duplicates into staging tables so we can validate all of them)\n",
    "* sale_id - we need this to be able to link this to peak_sales\n",
    "* location_id - Peak's location_id (NOT AGM's store_id)\n",
    "* name  \n",
    "* street \n",
    "* city \n",
    "* state \n",
    "* zip \n",
    "\n",
    "peak_customers.csv (we will load duplicates into staging tables so we can validate all of them)\n",
    "* sale_id - we need this to be able to link this to peak_sales\n",
    "* customer_id - Peak's customer_id (NOT AGM's customer_id)\n",
    "* first_name\n",
    "* last_name\n",
    "* street\n",
    "* city\n",
    "* state\n",
    "* zip\n",
    "\n",
    "peak_line_items.csv\n",
    "* sale_id - we need this to be able to link this to peak_sales\n",
    "* line_item_id - you will need to sequentially number them within each sale starting with 1\n",
    "* product_id - Peak's product ID (NOT AGM's product_id)\n",
    "* price - should be 12\n",
    "* quantity\n",
    "* taxable - should be 'N' for not taxable\n",
    "\n",
    "After creating these CSV files, be sure and check them into your GitHub repo.\n",
    "\n",
    "Pattern your code after the examples in the labs.  You may use as many code cells as you need."
   ]
  },
  {
   "cell_type": "code",
   "execution_count": null,
   "id": "2b8060a7",
   "metadata": {},
   "outputs": [],
   "source": []
  },
  {
   "cell_type": "markdown",
   "id": "35faf850",
   "metadata": {},
   "source": [
    "# 2.2.3 Display the CSV file peak_sales.csv\n",
    "\n",
    "Use the function my_read_csv_file() from the labs (with a limit of 10) to display the CSV file you just created:\n",
    "* peak_sales.csv\n",
    "\n",
    "Pattern your code after the examples in the labs.  You may use as many code cells as you need."
   ]
  },
  {
   "cell_type": "code",
   "execution_count": null,
   "id": "9d1c1075",
   "metadata": {},
   "outputs": [],
   "source": []
  },
  {
   "cell_type": "markdown",
   "id": "8e885e55",
   "metadata": {},
   "source": [
    "# 2.2.4 Display the CSV file peak_stores.csv\n",
    "\n",
    "Use the function my_read_csv_file() from the labs (with a limit of 10) to display the CSV file you just created:\n",
    "* peak_stores.csv\n",
    "\n",
    "Pattern your code after the examples in the labs.  You may use as many code cells as you need."
   ]
  },
  {
   "cell_type": "code",
   "execution_count": null,
   "id": "d65654e4",
   "metadata": {},
   "outputs": [],
   "source": []
  },
  {
   "cell_type": "markdown",
   "id": "e4a2ef6a",
   "metadata": {},
   "source": [
    "# 2.2.5 Display the CSV file peak_customers.csv\n",
    "\n",
    "Use the function my_read_csv_file() from the labs (with a limit of 10) to display the CSV file you just created:\n",
    "* peak_customers.csv\n",
    "\n",
    "Pattern your code after the examples in the labs.  You may use as many code cells as you need."
   ]
  },
  {
   "cell_type": "code",
   "execution_count": null,
   "id": "a5cd033e",
   "metadata": {},
   "outputs": [],
   "source": []
  },
  {
   "cell_type": "markdown",
   "id": "3d92221c",
   "metadata": {},
   "source": [
    "# 2.2.6 Display the CSV file peak_line_items.csv\n",
    "\n",
    "Use the function my_read_csv_file() from the labs (with a limit of 10) to display the CSV file you just created:\n",
    "* peak_line_items.csv\n",
    "\n",
    "Pattern your code after the examples in the labs.  You may use as many code cells as you need."
   ]
  },
  {
   "cell_type": "code",
   "execution_count": null,
   "id": "bb2c6af1",
   "metadata": {},
   "outputs": [],
   "source": []
  }
 ],
 "metadata": {
  "kernelspec": {
   "display_name": "Python 3",
   "language": "python",
   "name": "python3"
  },
  "language_info": {
   "codemirror_mode": {
    "name": "ipython",
    "version": 3
   },
   "file_extension": ".py",
   "mimetype": "text/x-python",
   "name": "python",
   "nbconvert_exporter": "python",
   "pygments_lexer": "ipython3",
   "version": "3.8.8"
  }
 },
 "nbformat": 4,
 "nbformat_minor": 5
}
